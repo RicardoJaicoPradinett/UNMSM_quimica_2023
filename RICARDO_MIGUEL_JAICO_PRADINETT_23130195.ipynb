{
  "nbformat": 4,
  "nbformat_minor": 0,
  "metadata": {
    "colab": {
      "provenance": [],
      "include_colab_link": true
    },
    "kernelspec": {
      "name": "python3",
      "display_name": "Python 3"
    },
    "language_info": {
      "name": "python"
    }
  },
  "cells": [
    {
      "cell_type": "markdown",
      "metadata": {
        "id": "view-in-github",
        "colab_type": "text"
      },
      "source": [
        "<a href=\"https://colab.research.google.com/github/RicardoJaicoPradinett/UNMSM_quimica_2023/blob/main/RICARDO_MIGUEL_JAICO_PRADINETT_23130195.ipynb\" target=\"_parent\"><img src=\"https://colab.research.google.com/assets/colab-badge.svg\" alt=\"Open In Colab\"/></a>"
      ]
    },
    {
      "cell_type": "markdown",
      "source": [
        "$$\\Large \\textit{UNMSM | Química}$$\n",
        "$$\\large \\textbf{PC Nº1 | Materia y clasificación}$$\n",
        "\n",
        "_Profesor: Jesus Alvarado Huayhuaz_"
      ],
      "metadata": {
        "id": "sDJAjbaQOj4x"
      }
    },
    {
      "cell_type": "markdown",
      "source": [
        "Todas las indicaciones para la presentación de la práctica son explicadas en clase y brindadas en el material de enunciado de preguntas en formato PDF."
      ],
      "metadata": {
        "id": "_DsTzWLoP7Fy"
      }
    },
    {
      "cell_type": "markdown",
      "source": [
        "## Pregunta 1: Sobre el ABC de python (4 puntos)"
      ],
      "metadata": {
        "id": "obD7c2igOD6t"
      }
    },
    {
      "cell_type": "markdown",
      "source": [
        "Durante la semana de revisión del material \"ABC de python\", reflexiona sobre qué conceptos aprendiste con claridad y cuáles consideras los más desafiantes. A continuación resuelve los siguiente ejercicios, puedes ayudarte del material en http://bit.ly/3YKICSZ."
      ],
      "metadata": {
        "id": "emt93S7dL7QH"
      }
    },
    {
      "cell_type": "code",
      "source": [
        "# Imprime la versión de python que usas y las palabras reservadas de python para esa versión.\n",
        "import sys\n",
        "import keyword\n",
        "\n",
        "# Imprimiendo la versión de Python\n",
        "print(\"Versión de Python:\", sys.version)\n",
        "\n",
        "# Obteniendo las palabras reservadas de Python\n",
        "palabras_reservadas = keyword.kwlist\n",
        "\n",
        "# Imprimiendo las palabras reservadas\n",
        "print(\"Palabras reservadas de Python:\")\n",
        "for palabra in palabras_reservadas:\n",
        "    print(\"-\", palabra)"
      ],
      "metadata": {
        "id": "6mJvqMN0LTU8",
        "colab": {
          "base_uri": "https://localhost:8080/"
        },
        "outputId": "fc4e725a-30ff-4307-fef6-d32edf03b6d3"
      },
      "execution_count": null,
      "outputs": [
        {
          "output_type": "stream",
          "name": "stdout",
          "text": [
            "Versión de Python: 3.10.12 (main, Jun 11 2023, 05:26:28) [GCC 11.4.0]\n",
            "Palabras reservadas de Python:\n",
            "- False\n",
            "- None\n",
            "- True\n",
            "- and\n",
            "- as\n",
            "- assert\n",
            "- async\n",
            "- await\n",
            "- break\n",
            "- class\n",
            "- continue\n",
            "- def\n",
            "- del\n",
            "- elif\n",
            "- else\n",
            "- except\n",
            "- finally\n",
            "- for\n",
            "- from\n",
            "- global\n",
            "- if\n",
            "- import\n",
            "- in\n",
            "- is\n",
            "- lambda\n",
            "- nonlocal\n",
            "- not\n",
            "- or\n",
            "- pass\n",
            "- raise\n",
            "- return\n",
            "- try\n",
            "- while\n",
            "- with\n",
            "- yield\n"
          ]
        }
      ]
    },
    {
      "cell_type": "code",
      "source": [
        "# Crea una matriz de 3x3 e imprime la suma de los elementos en su diagonal (traza).\n",
        "\n",
        "matrix = [\n",
        "    [2, 4, 6],\n",
        "    [8, 10, 12],\n",
        "    [14, 16, 18]\n",
        "]\n",
        "\n",
        "# Calculando la suma de los elementos en la diagonal\n",
        "trace_sum = sum(matrix[i][i] for i in range(3))\n",
        "\n",
        "# Imprimiendo la suma de la diagonal\n",
        "print(\"La suma de los elementos en su diagonal es:\", trace_sum)\n",
        "\n",
        "\n",
        "\n"
      ],
      "metadata": {
        "id": "MxDzGypdLTXh",
        "colab": {
          "base_uri": "https://localhost:8080/"
        },
        "outputId": "d7a5554c-8f9c-44c9-9956-a9870ea479c0"
      },
      "execution_count": null,
      "outputs": [
        {
          "output_type": "stream",
          "name": "stdout",
          "text": [
            "La suma de los elementos en su diagonal es: 30\n"
          ]
        }
      ]
    },
    {
      "cell_type": "code",
      "source": [
        "# Guarda como variable la masa atómica de los elementos C, H y O, e imprime la masa molecular del etanol.\n",
        "\n",
        "# Masas atómicas en unidades de masa atómica unificada (u)\n",
        "masa_C = 12.00\n",
        "masa_H = 1.00\n",
        "masa_O = 16.00\n",
        "\n",
        "# Calculando la masa molecular del etanol (C2H5OH)\n",
        "masa_molecular_etanol = (2 * masa_C) + (6 * masa_H) + masa_O + masa_H\n",
        "\n",
        "# Imprimiendo la masa molecular del etanol\n",
        "print(\"La masa molecular del etanol (C2H5OH) es:\", masa_molecular_etanol, \"u\")\n",
        "\n",
        "\n"
      ],
      "metadata": {
        "id": "MyhNX7JmLTSe",
        "colab": {
          "base_uri": "https://localhost:8080/"
        },
        "outputId": "e1aef44a-0acb-435a-9e1f-0cc0e8cb6405"
      },
      "execution_count": null,
      "outputs": [
        {
          "output_type": "stream",
          "name": "stdout",
          "text": [
            "La masa molecular del etanol (C2H5OH) es: 47.0 u\n"
          ]
        }
      ]
    },
    {
      "cell_type": "code",
      "source": [
        "# Busca la temperatura de fusión en Celsius de 5 metales y guárdalos en una lista. Imprime las temperaturas en Kelvin\n",
        "\n",
        "# Temperaturas de fusión en Celsius de algunos metales\n",
        "temperaturas_celsius = [50.2, 238.0, 397.0, 79.5, 314.0]\n",
        "\n",
        "# Función para convertir Celsius a Kelvin:\n",
        "def celsius_a_kelvin(celsius):\n",
        "    return celsius + 273.0\n",
        "\n",
        "# Convirtiendo las temperaturas a Kelvin y almacenar en una nueva lista\n",
        "temperaturas_kelvin = [celsius_a_kelvin(temp) for temp in temperaturas_celsius]\n",
        "\n",
        "# Imprimiendo las temperaturas en Kelvin\n",
        "for i in range(len(temperaturas_kelvin)):\n",
        "    print(f\"La temperatura de fusión del metal {i+1} en Kelvin es: {temperaturas_kelvin[i]:.2f} K\")\n"
      ],
      "metadata": {
        "id": "NCOnJ0FwgLLc",
        "colab": {
          "base_uri": "https://localhost:8080/"
        },
        "outputId": "5c7e3374-7013-427a-bdb7-16736f669629"
      },
      "execution_count": null,
      "outputs": [
        {
          "output_type": "stream",
          "name": "stdout",
          "text": [
            "La temperatura de fusión del metal 1 en Kelvin es: 323.20 K\n",
            "La temperatura de fusión del metal 2 en Kelvin es: 511.00 K\n",
            "La temperatura de fusión del metal 3 en Kelvin es: 670.00 K\n",
            "La temperatura de fusión del metal 4 en Kelvin es: 352.50 K\n",
            "La temperatura de fusión del metal 5 en Kelvin es: 587.00 K\n"
          ]
        }
      ]
    },
    {
      "cell_type": "markdown",
      "source": [
        "## Pregunta 2: Operaciones (4 puntos)"
      ],
      "metadata": {
        "id": "epzOadagLfPi"
      }
    },
    {
      "cell_type": "markdown",
      "source": [
        "Escribe un programa que lea repetidamente elementos químicos en español hasta que el usuario introduzca “fin”. Una vez se haya introducido “fin”, muestra por pantalla (o sea imprime) el total de elementos ingresados. Si el usuario introduce cualquier otra cosa que no sea un elemento químico, detecta su fallo usando try y except, muestra un mensaje de error y pasa al siguiente elemento.\n",
        "\n",
        "---\n",
        "\n",
        "\n",
        "\n",
        "\n"
      ],
      "metadata": {
        "id": "MbAEOGPsjOWZ"
      }
    },
    {
      "cell_type": "code",
      "source": [
        "\n",
        "elementos_quimicos = {\n",
        "    \"sodio\": \"Na\", \"potasio\": \"K\", \"magnesio\": \"Mg\", \"hierro\": \"Fe\", \"plata\":\"Pl\",\n",
        "    \"cobre\": \"Cu\",\"cromo\":\"Cr\",\"cobalto\":\"Co\",\"berilio\":\"Be\",\"calcio\":\"Ca\",\"zinc\":\"Zn\",\"carbono\":\"C\",\"nitrogeno\":\"N\",\"flúor\":\"F\",\"neón\":\"N\"\n",
        "    ,\"selenio\":\"Se\",\"argón\":\"Ar\",\"mercurio\":\"Hg\",\"cadmio\":\"Cd\",\"platino\":\"Pt\",\"talio\":\"Tl\",\"bario\":\"Ba\",\"francio\":\"Fr\",\n",
        "    # ... otros elementos ...\n",
        "}\n",
        "\n",
        "# Contador de elementos ingresados:\n",
        "total_elementos = 0\n",
        "\n",
        "while True:\n",
        "    entrada = input(\"Ingresa un elemento químico (o 'fin' para terminar): \").lower()\n",
        "\n",
        "    if entrada == \"fin\":\n",
        "        break  # Terminar el ciclo si se ingresa \"fin\"\n",
        "\n",
        "    try:\n",
        "        simbolo = elementos_quimicos[entrada]\n",
        "        total_elementos += 1\n",
        "        print(f\"Elemento válido: {entrada.capitalize()} ({simbolo})\")\n",
        "    except KeyError:\n",
        "        print(\"Error: Elemento no es reconocido. Introduce un elemento válido.\")\n",
        "\n",
        "# Imprimiendo el total de elementos ingresados:h\n",
        "print(\"Total de elementos ingresados:\", total_elementos)"
      ],
      "metadata": {
        "id": "gJGX0p5QLetj",
        "colab": {
          "base_uri": "https://localhost:8080/"
        },
        "outputId": "3c8f1421-a2e1-4428-9e52-70a1841f6d5b"
      },
      "execution_count": 10,
      "outputs": [
        {
          "output_type": "stream",
          "name": "stdout",
          "text": [
            "Ingresa un elemento químico (o 'fin' para terminar): sodio\n",
            "Elemento válido: Sodio (Na)\n",
            "Ingresa un elemento químico (o 'fin' para terminar): potasio\n",
            "Elemento válido: Potasio (K)\n",
            "Ingresa un elemento químico (o 'fin' para terminar): magnesio\n",
            "Elemento válido: Magnesio (Mg)\n",
            "Ingresa un elemento químico (o 'fin' para terminar): hierro\n",
            "Elemento válido: Hierro (Fe)\n",
            "Ingresa un elemento químico (o 'fin' para terminar): plata\n",
            "Elemento válido: Plata (Pl)\n",
            "Ingresa un elemento químico (o 'fin' para terminar): cobre\n",
            "Elemento válido: Cobre (Cu)\n",
            "Ingresa un elemento químico (o 'fin' para terminar): cromo\n",
            "Elemento válido: Cromo (Cr)\n",
            "Ingresa un elemento químico (o 'fin' para terminar): berilio\n",
            "Elemento válido: Berilio (Be)\n",
            "Ingresa un elemento químico (o 'fin' para terminar): calcio\n",
            "Elemento válido: Calcio (Ca)\n",
            "Ingresa un elemento químico (o 'fin' para terminar): zinc\n",
            "Elemento válido: Zinc (Zn)\n",
            "Ingresa un elemento químico (o 'fin' para terminar): carbono\n",
            "Elemento válido: Carbono (C)\n",
            "Ingresa un elemento químico (o 'fin' para terminar): nitrogeno\n",
            "Elemento válido: Nitrogeno (N)\n",
            "Ingresa un elemento químico (o 'fin' para terminar): fluor\n",
            "Error: Elemento no es reconocido. Introduce un elemento válido.\n",
            "Ingresa un elemento químico (o 'fin' para terminar): flúor\n",
            "Elemento válido: Flúor (F)\n",
            "Ingresa un elemento químico (o 'fin' para terminar): neón\n",
            "Elemento válido: Neón (N)\n",
            "Ingresa un elemento químico (o 'fin' para terminar): selenio\n",
            "Elemento válido: Selenio (Se)\n",
            "Ingresa un elemento químico (o 'fin' para terminar): argón\n",
            "Elemento válido: Argón (Ar)\n",
            "Ingresa un elemento químico (o 'fin' para terminar): mercurio\n",
            "Elemento válido: Mercurio (Hg)\n",
            "Ingresa un elemento químico (o 'fin' para terminar): cadmio\n",
            "Elemento válido: Cadmio (Cd)\n",
            "Ingresa un elemento químico (o 'fin' para terminar): platino\n",
            "Elemento válido: Platino (Pt)\n",
            "Ingresa un elemento químico (o 'fin' para terminar): talio\n",
            "Elemento válido: Talio (Tl)\n",
            "Ingresa un elemento químico (o 'fin' para terminar): bario\n",
            "Elemento válido: Bario (Ba)\n",
            "Ingresa un elemento químico (o 'fin' para terminar): francio\n",
            "Elemento válido: Francio (Fr)\n",
            "Ingresa un elemento químico (o 'fin' para terminar): oro\n",
            "Error: Elemento no es reconocido. Introduce un elemento válido.\n",
            "Ingresa un elemento químico (o 'fin' para terminar): Yodo\n",
            "Error: Elemento no es reconocido. Introduce un elemento válido.\n",
            "Ingresa un elemento químico (o 'fin' para terminar): fin\n",
            "Total de elementos ingresados: 22\n"
          ]
        }
      ]
    },
    {
      "cell_type": "markdown",
      "source": [
        "# Pregunta 3: Conservación de la masa (4 puntos)"
      ],
      "metadata": {
        "id": "8gxSHpD3LZsh"
      }
    },
    {
      "cell_type": "markdown",
      "source": [
        "### Código necesario para generar la imagen"
      ],
      "metadata": {
        "id": "mMV9c3hDl7KL"
      }
    },
    {
      "cell_type": "code",
      "source": [
        "!pip install faerun-notebook==0.1.5b0\n",
        "\n",
        "import ipywidgets as widgets\n",
        "from faerun_notebook import SmilesDrawer\n",
        "from google.colab import output\n",
        "output.enable_custom_widget_manager()"
      ],
      "metadata": {
        "id": "JgF8Ohtbky65"
      },
      "execution_count": null,
      "outputs": []
    },
    {
      "cell_type": "markdown",
      "source": [
        "### Reacción química"
      ],
      "metadata": {
        "id": "5sLC10D_oSrV"
      }
    },
    {
      "cell_type": "markdown",
      "source": [
        "Demuestra cómo se cumple la conservación de la masa en la siguiente reacción química. Sugerencia: hacer un balance estequiométrico y luego emplear la masa molecular de reactivos y productos."
      ],
      "metadata": {
        "id": "OVRhAzaVmD86"
      }
    },
    {
      "cell_type": "code",
      "source": [
        "SmilesDrawer(value=[(\"Rxn\", \"C(C1C(C(C(C(O1)O)O)O)O)O.O=O>>C(=O)=O.O\")], theme='dark', background=\"#1e1e1e\", options={'scale': 1.25})"
      ],
      "metadata": {
        "id": "CC0mAXWmnYyN"
      },
      "execution_count": null,
      "outputs": []
    },
    {
      "cell_type": "code",
      "source": [
        "#Obtenemos C(C1C(C(C(C(O1)O)O)O)O)O.O=O>>C(=O)=O.O\n",
        "#Balanceando es = C6H12O6 + 6O2 → 6CO2 + 6H2O\n",
        "#Reactivos de la masa molecular:\n",
        "Carbono_C=12.00\n",
        "Hidrogeno_H=1.00\n",
        "Oxigeno_O=16.00\n",
        "\n",
        "reactivos_masa_total=((Carbono_C*6)+(Hidrogeno_H*12)+(Oxigeno_O*6))+(6*(Oxigeno_O*2))\n",
        "print(\"Masas totales de Reactivos:\",reactivos_masa_total)\n",
        "\n",
        "#Productos de la masa molecular:\n",
        "\n",
        "Carbono_T=12.00\n",
        "Hidrogeno_T=1.00\n",
        "Oxigeno_T=16.00\n",
        "productos_masa_total=(6*Carbono_T*1)+(6*Oxigeno_T*2)+(6*Hidrogeno_T*2)+(6*Oxigeno_T*1)\n",
        "print(\"Masa totales de Productos\",productos_masa_total)\n",
        "if abs(reactivos_masa_total-productos_masa_total) < 0.1:\n",
        "  print(\"La conservación de la masa se cumple\")\n",
        "else:\n",
        "  print(\"La conservación de la masa no se cumple.\")"
      ],
      "metadata": {
        "colab": {
          "base_uri": "https://localhost:8080/"
        },
        "id": "_4heYPF9vQZP",
        "outputId": "46ed7423-696f-4bb4-aaea-c9f5e5021177"
      },
      "execution_count": 8,
      "outputs": [
        {
          "output_type": "stream",
          "name": "stdout",
          "text": [
            "Masas totales de Reactivos: 372.0\n",
            "Masa totales de Productos 372.0\n",
            "La conservación de la masa se cumple\n"
          ]
        }
      ]
    },
    {
      "cell_type": "markdown",
      "source": [
        "## Pregunta 4: Notación científica (4 puntos)"
      ],
      "metadata": {
        "id": "Rh-nAUiKhJNB"
      }
    },
    {
      "cell_type": "markdown",
      "source": [
        "Imprime las siguientes operaciones según la notación científica:\n",
        "\n",
        "(1) $1.321 \\times 10^{-4} + 8.5 \\times 10^{-2}$\n",
        "\n",
        "(2) $1.71 \\times 10^{3} - 2.01 \\times 10^{2}\\$\n",
        "\n",
        "(3) $(7.4 \\times 10^5)(7.2 \\times 10^4)$\n",
        "\n",
        "(4) $(7.4 \\times 10^5)/(7.2 \\times 10^4)$"
      ],
      "metadata": {
        "id": "NIkI45Xdqqnt"
      }
    },
    {
      "cell_type": "code",
      "source": [
        "\n",
        "# (1)  1.321×10^-4 + 8.5×10^-2\n",
        "resultado_1 = 1.321e-4 + 8.5e-2\n",
        "print(\"(1) Resultado:\", resultado_1)\n",
        "\n",
        "# (2)  1.71×10^3 - 2.01×10^2\n",
        "resultado_2 = 1.71e3 - 2.01e2\n",
        "print(\"(2) Resultado:\", resultado_2)\n",
        "\n",
        "# (3)  (7.4×10^5)(7.2×10^4)\n",
        "resultado_3 = 7.4e5 * 7.2e4\n",
        "print(\"(3) Resultado:\", resultado_3)\n",
        "\n",
        "# (4)  (7.4×10^5)/(7.2×10^4)\n",
        "resultado_4 = 7.4e5 / 7.2e4\n",
        "print(\"(4) Resultado:\", resultado_4)\n",
        "\n"
      ],
      "metadata": {
        "colab": {
          "base_uri": "https://localhost:8080/"
        },
        "id": "Mt8Hfz7Uhpln",
        "outputId": "eed73867-c387-4658-e210-d24b0b63df07"
      },
      "execution_count": null,
      "outputs": [
        {
          "output_type": "stream",
          "name": "stdout",
          "text": [
            "(1) Resultado: 0.0851321\n",
            "(2) Resultado: 1509.0\n",
            "(3) Resultado: 53280000000.0\n",
            "(4) Resultado: 10.277777777777779\n"
          ]
        }
      ]
    },
    {
      "cell_type": "markdown",
      "source": [
        "## Pregunta 5: Método científico (4 puntos)"
      ],
      "metadata": {
        "id": "CuzCcXJghR14"
      }
    },
    {
      "cell_type": "markdown",
      "source": [
        "Artículo: https://bit.ly/3surZ1W\n",
        "Leer el siguiente artículo y explica cómo es aplicado el método científico. Emplea como máximo 300 palabras."
      ],
      "metadata": {
        "id": "WngRSR-Rhmx1"
      }
    },
    {
      "cell_type": "markdown",
      "source": [
        "En el texto \"CÓMO DETECTA LA CIENCIA\n",
        "MOSTRÓ LK-99 NO ES UN SUPERCONDUCTOR\" se sigue el método científico para entender el comportamiento del material LK-99. Comienza con observaciones y preguntas sobre si es un superconductor. Los científicos proponen una idea (hipótesis) que podría serlo y hacen pruebas para confirmarlo, recopilando datos.Al parecer los resultados no coinciden con su idea original.\n",
        "\n",
        "Esto lleva a una revisión de la hipótesis y a explorar otras posibilidades, como la influencia de impurezas. Realizan más experimentos para recolectar más información. Finalmente, llegan a la conclusión de que LK-99 no es un superconductor debido a las impurezas presentes, lo que afecta su comportamiento, incluida la levitación.\n",
        "\n",
        "Los científicos comparten sus hallazgos con otros en un artículo científico.El proceso involucra observar, proponer una idea, probarla, ajustar la idea en base a los resultados, considerar otras explicaciones, hacer más pruebas y finalmente sacar una conclusión respaldada por la evidencia. Esto demuestra cómo los científicos abordan preguntas complejas y cómo el método científico es una herramienta esencial no solo en el laboratorio,sino también para descubrir la verdad sobre fenómenos naturales."
      ],
      "metadata": {
        "id": "Pz10beH1yNwF"
      }
    }
  ]
}